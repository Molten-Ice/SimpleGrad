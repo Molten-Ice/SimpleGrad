{
 "cells": [
  {
   "cell_type": "code",
   "execution_count": 1,
   "metadata": {},
   "outputs": [],
   "source": [
    "import sys\n",
    "sys.path.append('..') # Add parent directory to Python path\n",
    "from simplegrad import Tensor, Sequential, Linear, SGD, MnistLoader"
   ]
  },
  {
   "cell_type": "code",
   "execution_count": 2,
   "metadata": {},
   "outputs": [
    {
     "name": "stdout",
     "output_type": "stream",
     "text": [
      "Loading MNIST full dataset...\n"
     ]
    }
   ],
   "source": [
    "device = None # cpu\n",
    "training_data, validation_data, test_data = MnistLoader.load_data_wrapper(parent_dir=False)\n",
    "training_data, validation_data, test_data = [[[Tensor(x, device=device), Tensor(y, device=device)] for x, y in data] \n",
    "                                             for data in [training_data, validation_data, test_data]]"
   ]
  },
  {
   "cell_type": "code",
   "execution_count": 3,
   "metadata": {},
   "outputs": [
    {
     "name": "stdout",
     "output_type": "stream",
     "text": [
      "\n",
      "Sigmoid initialized for layer 784 -> 100 (std: 0.03571)\n",
      "\n",
      "Sigmoid initialized for layer 100 -> 10 (std: 0.10000)\n",
      "Sequential(\n",
      "   Linear(784 -> 100, activation=sigmoid),\n",
      "   Linear(100 -> 10, activation=sigmoid)\n",
      ")\n"
     ]
    }
   ],
   "source": [
    "Tensor.set_seed() # Sets random & numpy/torch seeds\n",
    "\n",
    "sizes = [784, 100, 10]\n",
    "lr = 0.5\n",
    "loss_func = 'cross_entropy'\n",
    "lambda_reg = 3e-4\n",
    "epochs = 1\n",
    "dropout = 0\n",
    "test_interval = 1000\n",
    "\n",
    "model = Sequential([\n",
    "    Linear(in_size, out_size, activation='sigmoid', dropout=dropout if i != len(sizes)-2 else 0) # activation='relu' if i != len(sizes)-2 else 'sigmoid'\n",
    "            for i, (in_size, out_size) in enumerate(zip(sizes[:-1], sizes[1:]))])\n",
    "print(model)"
   ]
  },
  {
   "cell_type": "code",
   "execution_count": 4,
   "metadata": {},
   "outputs": [
    {
     "name": "stdout",
     "output_type": "stream",
     "text": [
      "Initial evaluation: 961 / 10000\n",
      "[0/50000]: 1030 / 10000 correct -> base_loss: 10.90859, l2_loss: 0.00164, weight_sizes: [0.02856, 0.13124]\n",
      "[10000/50000]: 9151 / 10000 correct -> base_loss: 1.18381, l2_loss: 0.01019, weight_sizes: [0.05192, 0.3926]\n",
      "[20000/50000]: 9420 / 10000 correct -> base_loss: 0.29370, l2_loss: 0.01354, weight_sizes: [0.05745, 0.45166]\n",
      "[30000/50000]: 9453 / 10000 correct -> base_loss: 0.53278, l2_loss: 0.01548, weight_sizes: [0.05968, 0.48547]\n",
      "[40000/50000]: 9516 / 10000 correct -> base_loss: 0.05058, l2_loss: 0.01688, weight_sizes: [0.06078, 0.51201]\n",
      "Epoch 0: 9494 / 10000, took 109.95 seconds\n"
     ]
    }
   ],
   "source": [
    "SGD(model, training_data, epochs=epochs, mini_batch_size=10, lr=lr, test_data=validation_data, test_interval=test_interval, loss_func=loss_func, \n",
    "    lambda_reg=lambda_reg)"
   ]
  },
  {
   "cell_type": "code",
   "execution_count": null,
   "metadata": {},
   "outputs": [],
   "source": []
  }
 ],
 "metadata": {
  "kernelspec": {
   "display_name": ".venv",
   "language": "python",
   "name": "python3"
  },
  "language_info": {
   "codemirror_mode": {
    "name": "ipython",
    "version": 3
   },
   "file_extension": ".py",
   "mimetype": "text/x-python",
   "name": "python",
   "nbconvert_exporter": "python",
   "pygments_lexer": "ipython3",
   "version": "3.11.11"
  }
 },
 "nbformat": 4,
 "nbformat_minor": 2
}
